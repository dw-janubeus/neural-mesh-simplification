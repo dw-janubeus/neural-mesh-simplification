{
 "cells": [
  {
   "cell_type": "markdown",
   "id": "eef23eb0-4fc4-4f75-bc46-de36bdceeb1b",
   "metadata": {},
   "source": [
    "# Train the Neural Mesh Simplification model"
   ]
  },
  {
   "cell_type": "markdown",
   "id": "68548e86-1a2b-4ab7-b89e-5c93314f9345",
   "metadata": {},
   "source": [
    "## Set up the environment"
   ]
  },
  {
   "cell_type": "code",
   "execution_count": 2,
   "id": "4ccc9c4d-3796-4a47-9df0-89c189a67488",
   "metadata": {},
   "outputs": [
    {
     "name": "stdout",
     "output_type": "stream",
     "text": [
      "Looking in links: https://data.pyg.org/whl/torch-2.4.0+cpu.html, https://data.pyg.org/whl/torch-2.4.0+cpu.html, https://data.pyg.org/whl/torch-2.4.0+cpu.html\n",
      "Requirement already satisfied: aiohappyeyeballs==2.3.5 in /opt/homebrew/Caskroom/miniconda/base/envs/neural-mesh-simplification/lib/python3.12/site-packages (from -r requirements.txt (line 1)) (2.3.5)\n",
      "Requirement already satisfied: aiohttp==3.10.1 in /opt/homebrew/Caskroom/miniconda/base/envs/neural-mesh-simplification/lib/python3.12/site-packages (from -r requirements.txt (line 2)) (3.10.1)\n",
      "Requirement already satisfied: aiosignal==1.3.1 in /opt/homebrew/Caskroom/miniconda/base/envs/neural-mesh-simplification/lib/python3.12/site-packages (from -r requirements.txt (line 3)) (1.3.1)\n",
      "Requirement already satisfied: attrs==24.2.0 in /opt/homebrew/Caskroom/miniconda/base/envs/neural-mesh-simplification/lib/python3.12/site-packages (from -r requirements.txt (line 4)) (24.2.0)\n",
      "Requirement already satisfied: certifi==2024.7.4 in /opt/homebrew/Caskroom/miniconda/base/envs/neural-mesh-simplification/lib/python3.12/site-packages (from -r requirements.txt (line 5)) (2024.7.4)\n",
      "Requirement already satisfied: charset-normalizer==3.3.2 in /opt/homebrew/Caskroom/miniconda/base/envs/neural-mesh-simplification/lib/python3.12/site-packages (from -r requirements.txt (line 6)) (3.3.2)\n",
      "Requirement already satisfied: datasets==2.20.0 in /opt/homebrew/Caskroom/miniconda/base/envs/neural-mesh-simplification/lib/python3.12/site-packages (from -r requirements.txt (line 7)) (2.20.0)\n",
      "Requirement already satisfied: dill==0.3.8 in /opt/homebrew/Caskroom/miniconda/base/envs/neural-mesh-simplification/lib/python3.12/site-packages (from -r requirements.txt (line 8)) (0.3.8)\n",
      "Requirement already satisfied: filelock==3.15.4 in /opt/homebrew/Caskroom/miniconda/base/envs/neural-mesh-simplification/lib/python3.12/site-packages (from -r requirements.txt (line 9)) (3.15.4)\n",
      "Requirement already satisfied: frozenlist==1.4.1 in /opt/homebrew/Caskroom/miniconda/base/envs/neural-mesh-simplification/lib/python3.12/site-packages (from -r requirements.txt (line 10)) (1.4.1)\n",
      "Requirement already satisfied: fsspec==2024.5.0 in /opt/homebrew/Caskroom/miniconda/base/envs/neural-mesh-simplification/lib/python3.12/site-packages (from -r requirements.txt (line 11)) (2024.5.0)\n",
      "Requirement already satisfied: huggingface-hub==0.24.5 in /opt/homebrew/Caskroom/miniconda/base/envs/neural-mesh-simplification/lib/python3.12/site-packages (from -r requirements.txt (line 12)) (0.24.5)\n",
      "Requirement already satisfied: idna==3.7 in /opt/homebrew/Caskroom/miniconda/base/envs/neural-mesh-simplification/lib/python3.12/site-packages (from -r requirements.txt (line 13)) (3.7)\n",
      "Requirement already satisfied: iniconfig==2.0.0 in /opt/homebrew/Caskroom/miniconda/base/envs/neural-mesh-simplification/lib/python3.12/site-packages (from -r requirements.txt (line 14)) (2.0.0)\n",
      "Requirement already satisfied: Jinja2==3.1.4 in /opt/homebrew/Caskroom/miniconda/base/envs/neural-mesh-simplification/lib/python3.12/site-packages (from -r requirements.txt (line 15)) (3.1.4)\n",
      "Requirement already satisfied: joblib==1.4.2 in /opt/homebrew/Caskroom/miniconda/base/envs/neural-mesh-simplification/lib/python3.12/site-packages (from -r requirements.txt (line 16)) (1.4.2)\n",
      "Requirement already satisfied: MarkupSafe==2.1.5 in /opt/homebrew/Caskroom/miniconda/base/envs/neural-mesh-simplification/lib/python3.12/site-packages (from -r requirements.txt (line 17)) (2.1.5)\n",
      "Requirement already satisfied: mpmath==1.3.0 in /opt/homebrew/Caskroom/miniconda/base/envs/neural-mesh-simplification/lib/python3.12/site-packages (from -r requirements.txt (line 18)) (1.3.0)\n",
      "Requirement already satisfied: multidict==6.0.5 in /opt/homebrew/Caskroom/miniconda/base/envs/neural-mesh-simplification/lib/python3.12/site-packages (from -r requirements.txt (line 19)) (6.0.5)\n",
      "Requirement already satisfied: multiprocess==0.70.16 in /opt/homebrew/Caskroom/miniconda/base/envs/neural-mesh-simplification/lib/python3.12/site-packages (from -r requirements.txt (line 20)) (0.70.16)\n",
      "Requirement already satisfied: networkx==3.3 in /opt/homebrew/Caskroom/miniconda/base/envs/neural-mesh-simplification/lib/python3.12/site-packages (from -r requirements.txt (line 21)) (3.3)\n",
      "Requirement already satisfied: numpy==2.0.1 in /opt/homebrew/Caskroom/miniconda/base/envs/neural-mesh-simplification/lib/python3.12/site-packages (from -r requirements.txt (line 22)) (2.0.1)\n",
      "Requirement already satisfied: packaging==24.1 in /opt/homebrew/Caskroom/miniconda/base/envs/neural-mesh-simplification/lib/python3.12/site-packages (from -r requirements.txt (line 23)) (24.1)\n",
      "Requirement already satisfied: pandas==2.2.2 in /opt/homebrew/Caskroom/miniconda/base/envs/neural-mesh-simplification/lib/python3.12/site-packages (from -r requirements.txt (line 24)) (2.2.2)\n",
      "Requirement already satisfied: pluggy==1.5.0 in /opt/homebrew/Caskroom/miniconda/base/envs/neural-mesh-simplification/lib/python3.12/site-packages (from -r requirements.txt (line 25)) (1.5.0)\n",
      "Requirement already satisfied: psutil==6.0.0 in /opt/homebrew/Caskroom/miniconda/base/envs/neural-mesh-simplification/lib/python3.12/site-packages (from -r requirements.txt (line 26)) (6.0.0)\n",
      "Requirement already satisfied: pyarrow==17.0.0 in /opt/homebrew/Caskroom/miniconda/base/envs/neural-mesh-simplification/lib/python3.12/site-packages (from -r requirements.txt (line 27)) (17.0.0)\n",
      "Requirement already satisfied: pyarrow-hotfix==0.6 in /opt/homebrew/Caskroom/miniconda/base/envs/neural-mesh-simplification/lib/python3.12/site-packages (from -r requirements.txt (line 28)) (0.6)\n",
      "Requirement already satisfied: pyparsing==3.1.2 in /opt/homebrew/Caskroom/miniconda/base/envs/neural-mesh-simplification/lib/python3.12/site-packages (from -r requirements.txt (line 29)) (3.1.2)\n",
      "Requirement already satisfied: pytest==8.3.2 in /opt/homebrew/Caskroom/miniconda/base/envs/neural-mesh-simplification/lib/python3.12/site-packages (from -r requirements.txt (line 30)) (8.3.2)\n",
      "Requirement already satisfied: python-dateutil==2.9.0.post0 in /opt/homebrew/Caskroom/miniconda/base/envs/neural-mesh-simplification/lib/python3.12/site-packages (from -r requirements.txt (line 31)) (2.9.0.post0)\n",
      "Requirement already satisfied: pytz==2024.1 in /opt/homebrew/Caskroom/miniconda/base/envs/neural-mesh-simplification/lib/python3.12/site-packages (from -r requirements.txt (line 32)) (2024.1)\n",
      "Requirement already satisfied: PyYAML==6.0.2 in /opt/homebrew/Caskroom/miniconda/base/envs/neural-mesh-simplification/lib/python3.12/site-packages (from -r requirements.txt (line 33)) (6.0.2)\n",
      "Requirement already satisfied: requests==2.32.3 in /opt/homebrew/Caskroom/miniconda/base/envs/neural-mesh-simplification/lib/python3.12/site-packages (from -r requirements.txt (line 34)) (2.32.3)\n",
      "Requirement already satisfied: Rtree==1.3.0 in /opt/homebrew/Caskroom/miniconda/base/envs/neural-mesh-simplification/lib/python3.12/site-packages (from -r requirements.txt (line 35)) (1.3.0)\n",
      "Requirement already satisfied: scikit-learn==1.5.1 in /opt/homebrew/Caskroom/miniconda/base/envs/neural-mesh-simplification/lib/python3.12/site-packages (from -r requirements.txt (line 36)) (1.5.1)\n",
      "Requirement already satisfied: scipy==1.14.0 in /opt/homebrew/Caskroom/miniconda/base/envs/neural-mesh-simplification/lib/python3.12/site-packages (from -r requirements.txt (line 37)) (1.14.0)\n",
      "Requirement already satisfied: setuptools==72.1.0 in /opt/homebrew/Caskroom/miniconda/base/envs/neural-mesh-simplification/lib/python3.12/site-packages (from -r requirements.txt (line 38)) (72.1.0)\n",
      "Requirement already satisfied: six==1.16.0 in /opt/homebrew/Caskroom/miniconda/base/envs/neural-mesh-simplification/lib/python3.12/site-packages (from -r requirements.txt (line 39)) (1.16.0)\n",
      "Requirement already satisfied: sympy==1.13.1 in /opt/homebrew/Caskroom/miniconda/base/envs/neural-mesh-simplification/lib/python3.12/site-packages (from -r requirements.txt (line 40)) (1.13.1)\n",
      "Requirement already satisfied: threadpoolctl==3.5.0 in /opt/homebrew/Caskroom/miniconda/base/envs/neural-mesh-simplification/lib/python3.12/site-packages (from -r requirements.txt (line 41)) (3.5.0)\n",
      "Requirement already satisfied: torch==2.4.0 in /opt/homebrew/Caskroom/miniconda/base/envs/neural-mesh-simplification/lib/python3.12/site-packages (from -r requirements.txt (line 42)) (2.4.0)\n",
      "Requirement already satisfied: torch_cluster==1.6.3 in /opt/homebrew/Caskroom/miniconda/base/envs/neural-mesh-simplification/lib/python3.12/site-packages (from -r requirements.txt (line 43)) (1.6.3)\n",
      "Requirement already satisfied: torch_geometric==2.5.3 in /opt/homebrew/Caskroom/miniconda/base/envs/neural-mesh-simplification/lib/python3.12/site-packages (from -r requirements.txt (line 45)) (2.5.3)\n",
      "Requirement already satisfied: torch_scatter==2.1.2 in /opt/homebrew/Caskroom/miniconda/base/envs/neural-mesh-simplification/lib/python3.12/site-packages (from -r requirements.txt (line 46)) (2.1.2)\n",
      "Requirement already satisfied: torch_sparse==0.6.18 in /opt/homebrew/Caskroom/miniconda/base/envs/neural-mesh-simplification/lib/python3.12/site-packages (from -r requirements.txt (line 48)) (0.6.18)\n",
      "Requirement already satisfied: tqdm==4.66.5 in /opt/homebrew/Caskroom/miniconda/base/envs/neural-mesh-simplification/lib/python3.12/site-packages (from -r requirements.txt (line 50)) (4.66.5)\n",
      "Requirement already satisfied: trimesh==4.4.4 in /opt/homebrew/Caskroom/miniconda/base/envs/neural-mesh-simplification/lib/python3.12/site-packages (from -r requirements.txt (line 51)) (4.4.4)\n",
      "Requirement already satisfied: typing_extensions==4.12.2 in /opt/homebrew/Caskroom/miniconda/base/envs/neural-mesh-simplification/lib/python3.12/site-packages (from -r requirements.txt (line 52)) (4.12.2)\n",
      "Requirement already satisfied: tzdata==2024.1 in /opt/homebrew/Caskroom/miniconda/base/envs/neural-mesh-simplification/lib/python3.12/site-packages (from -r requirements.txt (line 53)) (2024.1)\n",
      "Requirement already satisfied: urllib3==2.2.2 in /opt/homebrew/Caskroom/miniconda/base/envs/neural-mesh-simplification/lib/python3.12/site-packages (from -r requirements.txt (line 54)) (2.2.2)\n",
      "Requirement already satisfied: wheel==0.43.0 in /opt/homebrew/Caskroom/miniconda/base/envs/neural-mesh-simplification/lib/python3.12/site-packages (from -r requirements.txt (line 55)) (0.43.0)\n",
      "Requirement already satisfied: xxhash==3.4.1 in /opt/homebrew/Caskroom/miniconda/base/envs/neural-mesh-simplification/lib/python3.12/site-packages (from -r requirements.txt (line 56)) (3.4.1)\n",
      "Requirement already satisfied: yarl==1.9.4 in /opt/homebrew/Caskroom/miniconda/base/envs/neural-mesh-simplification/lib/python3.12/site-packages (from -r requirements.txt (line 57)) (1.9.4)\n"
     ]
    }
   ],
   "source": [
    "!pip install -r requirements.txt"
   ]
  },
  {
   "cell_type": "code",
   "execution_count": 3,
   "id": "c7d81e6c-5d1b-415f-a31c-bfc5b6d6ecc6",
   "metadata": {},
   "outputs": [
    {
     "name": "stdout",
     "output_type": "stream",
     "text": [
      "Obtaining file:///Users/gennaro/code/thinAir/ml/neural-mesh-simplification\n",
      "  Installing build dependencies ... \u001b[?25ldone\n",
      "\u001b[?25h  Checking if build backend supports build_editable ... \u001b[?25ldone\n",
      "\u001b[?25h  Getting requirements to build editable ... \u001b[?25ldone\n",
      "\u001b[?25h  Preparing editable metadata (pyproject.toml) ... \u001b[?25ldone\n",
      "\u001b[?25hRequirement already satisfied: numpy in /opt/homebrew/Caskroom/miniconda/base/envs/neural-mesh-simplification/lib/python3.12/site-packages (from neural-mesh-simplification==0.1.0) (2.0.1)\n",
      "Requirement already satisfied: torch in /opt/homebrew/Caskroom/miniconda/base/envs/neural-mesh-simplification/lib/python3.12/site-packages (from neural-mesh-simplification==0.1.0) (2.4.0)\n",
      "Requirement already satisfied: trimesh in /opt/homebrew/Caskroom/miniconda/base/envs/neural-mesh-simplification/lib/python3.12/site-packages (from neural-mesh-simplification==0.1.0) (4.4.4)\n",
      "Requirement already satisfied: scipy in /opt/homebrew/Caskroom/miniconda/base/envs/neural-mesh-simplification/lib/python3.12/site-packages (from neural-mesh-simplification==0.1.0) (1.14.0)\n",
      "Requirement already satisfied: matplotlib in /opt/homebrew/Caskroom/miniconda/base/envs/neural-mesh-simplification/lib/python3.12/site-packages (from neural-mesh-simplification==0.1.0) (3.10.0)\n",
      "Requirement already satisfied: tqdm in /opt/homebrew/Caskroom/miniconda/base/envs/neural-mesh-simplification/lib/python3.12/site-packages (from neural-mesh-simplification==0.1.0) (4.66.5)\n",
      "Requirement already satisfied: contourpy>=1.0.1 in /opt/homebrew/Caskroom/miniconda/base/envs/neural-mesh-simplification/lib/python3.12/site-packages (from matplotlib->neural-mesh-simplification==0.1.0) (1.3.1)\n",
      "Requirement already satisfied: cycler>=0.10 in /opt/homebrew/Caskroom/miniconda/base/envs/neural-mesh-simplification/lib/python3.12/site-packages (from matplotlib->neural-mesh-simplification==0.1.0) (0.12.1)\n",
      "Requirement already satisfied: fonttools>=4.22.0 in /opt/homebrew/Caskroom/miniconda/base/envs/neural-mesh-simplification/lib/python3.12/site-packages (from matplotlib->neural-mesh-simplification==0.1.0) (4.55.6)\n",
      "Requirement already satisfied: kiwisolver>=1.3.1 in /opt/homebrew/Caskroom/miniconda/base/envs/neural-mesh-simplification/lib/python3.12/site-packages (from matplotlib->neural-mesh-simplification==0.1.0) (1.4.8)\n",
      "Requirement already satisfied: packaging>=20.0 in /opt/homebrew/Caskroom/miniconda/base/envs/neural-mesh-simplification/lib/python3.12/site-packages (from matplotlib->neural-mesh-simplification==0.1.0) (24.1)\n",
      "Requirement already satisfied: pillow>=8 in /opt/homebrew/Caskroom/miniconda/base/envs/neural-mesh-simplification/lib/python3.12/site-packages (from matplotlib->neural-mesh-simplification==0.1.0) (11.1.0)\n",
      "Requirement already satisfied: pyparsing>=2.3.1 in /opt/homebrew/Caskroom/miniconda/base/envs/neural-mesh-simplification/lib/python3.12/site-packages (from matplotlib->neural-mesh-simplification==0.1.0) (3.1.2)\n",
      "Requirement already satisfied: python-dateutil>=2.7 in /opt/homebrew/Caskroom/miniconda/base/envs/neural-mesh-simplification/lib/python3.12/site-packages (from matplotlib->neural-mesh-simplification==0.1.0) (2.9.0.post0)\n",
      "Requirement already satisfied: filelock in /opt/homebrew/Caskroom/miniconda/base/envs/neural-mesh-simplification/lib/python3.12/site-packages (from torch->neural-mesh-simplification==0.1.0) (3.15.4)\n",
      "Requirement already satisfied: typing-extensions>=4.8.0 in /opt/homebrew/Caskroom/miniconda/base/envs/neural-mesh-simplification/lib/python3.12/site-packages (from torch->neural-mesh-simplification==0.1.0) (4.12.2)\n",
      "Requirement already satisfied: sympy in /opt/homebrew/Caskroom/miniconda/base/envs/neural-mesh-simplification/lib/python3.12/site-packages (from torch->neural-mesh-simplification==0.1.0) (1.13.1)\n",
      "Requirement already satisfied: networkx in /opt/homebrew/Caskroom/miniconda/base/envs/neural-mesh-simplification/lib/python3.12/site-packages (from torch->neural-mesh-simplification==0.1.0) (3.3)\n",
      "Requirement already satisfied: jinja2 in /opt/homebrew/Caskroom/miniconda/base/envs/neural-mesh-simplification/lib/python3.12/site-packages (from torch->neural-mesh-simplification==0.1.0) (3.1.4)\n",
      "Requirement already satisfied: fsspec in /opt/homebrew/Caskroom/miniconda/base/envs/neural-mesh-simplification/lib/python3.12/site-packages (from torch->neural-mesh-simplification==0.1.0) (2024.5.0)\n",
      "Requirement already satisfied: setuptools in /opt/homebrew/Caskroom/miniconda/base/envs/neural-mesh-simplification/lib/python3.12/site-packages (from torch->neural-mesh-simplification==0.1.0) (72.1.0)\n",
      "Requirement already satisfied: six>=1.5 in /opt/homebrew/Caskroom/miniconda/base/envs/neural-mesh-simplification/lib/python3.12/site-packages (from python-dateutil>=2.7->matplotlib->neural-mesh-simplification==0.1.0) (1.16.0)\n",
      "Requirement already satisfied: MarkupSafe>=2.0 in /opt/homebrew/Caskroom/miniconda/base/envs/neural-mesh-simplification/lib/python3.12/site-packages (from jinja2->torch->neural-mesh-simplification==0.1.0) (2.1.5)\n",
      "Requirement already satisfied: mpmath<1.4,>=1.1.0 in /opt/homebrew/Caskroom/miniconda/base/envs/neural-mesh-simplification/lib/python3.12/site-packages (from sympy->torch->neural-mesh-simplification==0.1.0) (1.3.0)\n",
      "Building wheels for collected packages: neural-mesh-simplification\n",
      "  Building editable for neural-mesh-simplification (pyproject.toml) ... \u001b[?25ldone\n",
      "\u001b[?25h  Created wheel for neural-mesh-simplification: filename=neural_mesh_simplification-0.1.0-0.editable-py3-none-any.whl size=5136 sha256=28d9cf0da394a9fcd19db66c5a703a4340c026242fd6fc09a6416d87789d077e\n",
      "  Stored in directory: /private/var/folders/nh/2tqsxc9x06q9nk4n_bm862hr0000gn/T/pip-ephem-wheel-cache-7jdnc4y9/wheels/52/59/e0/2e73754b23001707e03f3788c7516d3d274ab5357b62a28d2a\n",
      "Successfully built neural-mesh-simplification\n",
      "Installing collected packages: neural-mesh-simplification\n",
      "  Attempting uninstall: neural-mesh-simplification\n",
      "    Found existing installation: neural-mesh-simplification 0.1.0\n",
      "    Uninstalling neural-mesh-simplification-0.1.0:\n",
      "      Successfully uninstalled neural-mesh-simplification-0.1.0\n",
      "Successfully installed neural-mesh-simplification-0.1.0\n"
     ]
    }
   ],
   "source": [
    "!pip install -e ."
   ]
  },
  {
   "cell_type": "markdown",
   "id": "806bd5b3-97a3-4b3f-90d5-369730b0c28e",
   "metadata": {},
   "source": [
    "## Load the default config"
   ]
  },
  {
   "cell_type": "code",
   "execution_count": 4,
   "id": "ab833708-53db-4a56-a366-422f268b0ff0",
   "metadata": {},
   "outputs": [],
   "source": [
    "def load_config(config_path):\n",
    "    import yaml\n",
    "    with open(config_path, \"r\") as file:\n",
    "        config = yaml.safe_load(file)\n",
    "    return config\n",
    "\n",
    "config = load_config(\"configs/default.yaml\")"
   ]
  },
  {
   "cell_type": "markdown",
   "id": "f46a98f4-09e3-4d84-b64e-b08fea3e4696",
   "metadata": {},
   "source": [
    "## Set up the logging level"
   ]
  },
  {
   "cell_type": "code",
   "execution_count": 5,
   "id": "34989946-037d-45b9-b2ce-50c234b61eb0",
   "metadata": {},
   "outputs": [],
   "source": [
    "import logging\n",
    "logging.basicConfig(level=logging.INFO)"
   ]
  },
  {
   "cell_type": "markdown",
   "id": "2fad8fd1-10a8-410c-b826-848c91a227bc",
   "metadata": {},
   "source": [
    "## Start the training"
   ]
  },
  {
   "cell_type": "code",
   "execution_count": null,
   "id": "ef712306-3971-421b-a3ee-d063759c926d",
   "metadata": {},
   "outputs": [
    {
     "name": "stderr",
     "output_type": "stream",
     "text": [
      "INFO:neural_mesh_simplification.trainer.trainer:Initializing trainer...\n",
      "INFO:neural_mesh_simplification.trainer.trainer:Using device: cpu\n",
      "INFO:neural_mesh_simplification.trainer.trainer:Initializing model...\n",
      "INFO:neural_mesh_simplification.trainer.trainer:Setting up optimizer and loss...\n",
      "/opt/homebrew/Caskroom/miniconda/base/envs/neural-mesh-simplification/lib/python3.12/site-packages/torch/optim/lr_scheduler.py:60: UserWarning: The verbose parameter is deprecated. Please use get_last_lr() to access the learning rate.\n",
      "  warnings.warn(\n",
      "INFO:neural_mesh_simplification.trainer.trainer:Preparing data loaders...\n",
      "INFO:neural_mesh_simplification.trainer.trainer:Loading dataset from data/processed\n",
      "INFO:neural_mesh_simplification.trainer.trainer:Dataset size: 4\n",
      "INFO:neural_mesh_simplification.trainer.trainer:Splitting dataset: 3 train, 1 validation\n",
      "INFO:neural_mesh_simplification.trainer.trainer:Data loaders prepared successfully\n",
      "INFO:neural_mesh_simplification.trainer.trainer:Trainer initialization complete.\n"
     ]
    },
    {
     "name": "stdout",
     "output_type": "stream",
     "text": [
      "Initialized ProbabilisticSurfaceDistanceLoss with k=3, num_samples=100\n"
     ]
    },
    {
     "name": "stderr",
     "output_type": "stream",
     "text": [
      "/opt/homebrew/Caskroom/miniconda/base/envs/neural-mesh-simplification/lib/python3.12/site-packages/torch_sparse/matmul.py:97: UserWarning: Sparse CSR tensor support is in beta state. If you miss a functionality in the sparse tensor support, please submit a feature request to https://github.com/pytorch/pytorch/issues. (Triggered internally at /Users/runner/work/pytorch/pytorch/pytorch/aten/src/ATen/SparseCsrTensorImpl.cpp:55.)\n",
      "  C = torch.sparse.mm(A, B)\n",
      "/Users/gennaro/code/thinAir/ml/neural-mesh-simplification/src/neural_mesh_simplification/losses/overlapping_triangles_loss.py:159: UserWarning: Using torch.cross without specifying the dim arg is deprecated.\n",
      "Please either pass the dim explicitly or simply use torch.linalg.cross.\n",
      "The default value of dim will change to agree with that of linalg.cross in a future release. (Triggered internally at /Users/runner/work/pytorch/pytorch/pytorch/aten/src/ATen/native/Cross.cpp:66.)\n",
      "  cross_prod = torch.cross(v1 - v0, v2 - v0)\n",
      "INFO:root:Epoch [1/20], Loss: 126.20273272196452\n",
      "INFO:root:Epoch [1/20], Validation Loss: 17.025257110595703\n",
      "INFO:root:Epoch [2/20], Loss: 95.808913230896\n",
      "INFO:root:Epoch [2/20], Validation Loss: 14.437880516052246\n",
      "INFO:root:Epoch [3/20], Loss: 48.85958035786947\n",
      "INFO:root:Epoch [3/20], Validation Loss: 27.065048217773438\n"
     ]
    }
   ],
   "source": [
    "from neural_mesh_simplification.trainer.trainer import Trainer\n",
    "\n",
    "trainer = Trainer(config)\n",
    "\n",
    "try:\n",
    "    trainer.train()\n",
    "except Exception as e:\n",
    "    trainer.handle_error(e)\n",
    "    trainer.save_training_state(os.path.join(config[\"training\"][\"checkpoint_dir\"], \"training_state.pth\"))"
   ]
  }
 ],
 "metadata": {
  "kernelspec": {
   "display_name": "Python 3 (ipykernel)",
   "language": "python",
   "name": "python3"
  },
  "language_info": {
   "codemirror_mode": {
    "name": "ipython",
    "version": 3
   },
   "file_extension": ".py",
   "mimetype": "text/x-python",
   "name": "python",
   "nbconvert_exporter": "python",
   "pygments_lexer": "ipython3",
   "version": "3.12.8"
  }
 },
 "nbformat": 4,
 "nbformat_minor": 5
}
