{
 "cells": [
  {
   "cell_type": "markdown",
   "id": "eef23eb0-4fc4-4f75-bc46-de36bdceeb1b",
   "metadata": {},
   "source": [
    "# Train the Neural Mesh Simplification model"
   ]
  },
  {
   "cell_type": "markdown",
   "id": "68548e86-1a2b-4ab7-b89e-5c93314f9345",
   "metadata": {},
   "source": [
    "## Set up the environment\n",
    "\n",
    "### (optional) Check out the repo\n",
    "!git clone https://github.com/gennarinoos/neural-mesh-simplification\n",
    "\n",
    "If you are running this notebook remotely (e.g. Google Colab), you'll want to copy the `requirements.txt` file from the repo with\n",
    "```\n",
    "!git clone https://github.com/gennarinoos/neural-mesh-simplification.git neural-mesh-simplification\n",
    "%cd neural-mesh-simplification\n",
    "```\n",
    "\n",
    "If are opening this notebook locally (by running `jupyter lab` from the repo root), the above step is not required.\n",
    "\n",
    "At this point you can install the requirements via pip"
   ]
  },
  {
   "cell_type": "code",
   "execution_count": null,
   "id": "ef6be6e0-41b0-43ca-9fda-508a8cb198be",
   "metadata": {},
   "outputs": [],
   "source": [
    "pip install -r requirements.txt"
   ]
  },
  {
   "cell_type": "markdown",
   "id": "afb8f678-23b6-4351-836a-08a37b7fa4f0",
   "metadata": {},
   "source": [
    "And then install the the source code for mesh simplification"
   ]
  },
  {
   "cell_type": "code",
   "execution_count": null,
   "id": "c7d81e6c-5d1b-415f-a31c-bfc5b6d6ecc6",
   "metadata": {},
   "outputs": [],
   "source": [
    "!pip install -e ."
   ]
  },
  {
   "cell_type": "markdown",
   "id": "76d21495-9bd4-46df-a4c8-a31b573e3d79",
   "metadata": {},
   "source": [
    "---\n",
    "## Training data\n",
    "You can use Hugging Face API to download some mesh data to use for training and evaluation."
   ]
  },
  {
   "cell_type": "code",
   "execution_count": null,
   "id": "42801141-20d8-40da-8f59-b7b25338ceef",
   "metadata": {},
   "outputs": [],
   "source": [
    "import os\n",
    "import shutil\n",
    "from huggingface_hub import snapshot_download\n",
    "\n",
    "target_folder = \"data/raw\"\n",
    "wip_folder = os.path.join(target_folder, \"wip\")\n",
    "os.makedirs(wip_folder, exist_ok=True)\n",
    "\n",
    "# abc_train is really large (+5k meshes), so download just a sample\n",
    "folder_patterns = [\"abc_extra_noisy/03_meshes/*.ply\", \"abc_train/03_meshes/*.ply\"]\n",
    "\n",
    "# Download\n",
    "snapshot_download(\n",
    "    repo_id=\"perler/ppsurf\",\n",
    "    repo_type=\"dataset\",\n",
    "    cache_dir=wip_folder,\n",
    "    allow_patterns=folder_patterns[0],\n",
    ")\n",
    "\n",
    "# Move files from wip folder to target folder\n",
    "for root, _, files in os.walk(wip_folder):\n",
    "    for file in files:\n",
    "        if file.endswith(\".ply\"):\n",
    "            src_file = os.path.join(root, file)\n",
    "            dest_file = os.path.join(target_folder, file)\n",
    "            shutil.copy2(src_file, dest_file)\n",
    "            os.remove(src_file)\n",
    "\n",
    "# Remove the wip folder\n",
    "shutil.rmtree(wip_folder)"
   ]
  },
  {
   "cell_type": "markdown",
   "id": "b1fe1228-5a40-4f44-9e58-5607beabd5a5",
   "metadata": {},
   "source": [
    "---\n",
    "## Model Training"
   ]
  },
  {
   "cell_type": "markdown",
   "id": "806bd5b3-97a3-4b3f-90d5-369730b0c28e",
   "metadata": {},
   "source": [
    "### Load the default config\n",
    "If you are running this notebook remotely (e.g. Google Colab), you'll need to copy the `default.yaml` file before running this command.\n",
    "If are opening this notebook locally (by running `jupyter lab` from the repo root), this step is not required."
   ]
  },
  {
   "cell_type": "code",
   "execution_count": null,
   "id": "ab833708-53db-4a56-a366-422f268b0ff0",
   "metadata": {},
   "outputs": [],
   "source": [
    "def load_config(config_path):\n",
    "    import yaml\n",
    "    with open(config_path, \"r\") as file:\n",
    "        config = yaml.safe_load(file)\n",
    "    return config\n",
    "\n",
    "config = load_config(\"configs/default.yaml\")"
   ]
  },
  {
   "cell_type": "markdown",
   "id": "f46a98f4-09e3-4d84-b64e-b08fea3e4696",
   "metadata": {},
   "source": [
    "### Set up the logging level"
   ]
  },
  {
   "cell_type": "code",
   "execution_count": null,
   "id": "34989946-037d-45b9-b2ce-50c234b61eb0",
   "metadata": {},
   "outputs": [],
   "source": [
    "import logging\n",
    "logging.basicConfig(level=logging.INFO)"
   ]
  },
  {
   "cell_type": "markdown",
   "id": "2fad8fd1-10a8-410c-b826-848c91a227bc",
   "metadata": {},
   "source": [
    "### Start the training"
   ]
  },
  {
   "cell_type": "code",
   "execution_count": null,
   "id": "ef712306-3971-421b-a3ee-d063759c926d",
   "metadata": {},
   "outputs": [],
   "source": [
    "from neural_mesh_simplification.trainer.trainer import Trainer\n",
    "\n",
    "trainer = Trainer(config)\n",
    "\n",
    "try:\n",
    "    trainer.train()\n",
    "except Exception as e:\n",
    "    trainer.handle_error(e)\n",
    "    trainer.save_training_state(os.path.join(config[\"training\"][\"checkpoint_dir\"], \"training_state.pth\"))"
   ]
  }
 ],
 "metadata": {
  "kernelspec": {
   "display_name": "Python 3 (ipykernel)",
   "language": "python",
   "name": "python3"
  },
  "language_info": {
   "codemirror_mode": {
    "name": "ipython",
    "version": 3
   },
   "file_extension": ".py",
   "mimetype": "text/x-python",
   "name": "python",
   "nbconvert_exporter": "python",
   "pygments_lexer": "ipython3",
   "version": "3.12.8"
  }
 },
 "nbformat": 4,
 "nbformat_minor": 5
}
